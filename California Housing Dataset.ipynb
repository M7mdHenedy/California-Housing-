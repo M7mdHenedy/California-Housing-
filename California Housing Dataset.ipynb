{
 "cells": [
  {
   "cell_type": "code",
   "execution_count": 253,
   "id": "47bcf228",
   "metadata": {},
   "outputs": [],
   "source": [
    "import numpy as np\n",
    "import pandas as pd\n",
    "import matplotlib.pyplot as plt\n",
    "import seaborn as sns \n",
    "sns.set()"
   ]
  },
  {
   "cell_type": "code",
   "execution_count": 254,
   "id": "b096a8cb",
   "metadata": {},
   "outputs": [],
   "source": [
    "raw_data= pd.read_csv(r'https://raw.githubusercontent.com/ageron/handson-ml2/master/datasets/housing/housing.csv')"
   ]
  },
  {
   "cell_type": "code",
   "execution_count": 255,
   "id": "65f651d9",
   "metadata": {},
   "outputs": [
    {
     "data": {
      "text/html": [
       "<div>\n",
       "<style scoped>\n",
       "    .dataframe tbody tr th:only-of-type {\n",
       "        vertical-align: middle;\n",
       "    }\n",
       "\n",
       "    .dataframe tbody tr th {\n",
       "        vertical-align: top;\n",
       "    }\n",
       "\n",
       "    .dataframe thead th {\n",
       "        text-align: right;\n",
       "    }\n",
       "</style>\n",
       "<table border=\"1\" class=\"dataframe\">\n",
       "  <thead>\n",
       "    <tr style=\"text-align: right;\">\n",
       "      <th></th>\n",
       "      <th>longitude</th>\n",
       "      <th>latitude</th>\n",
       "      <th>housing_median_age</th>\n",
       "      <th>total_rooms</th>\n",
       "      <th>total_bedrooms</th>\n",
       "      <th>population</th>\n",
       "      <th>households</th>\n",
       "      <th>median_income</th>\n",
       "      <th>median_house_value</th>\n",
       "      <th>ocean_proximity</th>\n",
       "    </tr>\n",
       "  </thead>\n",
       "  <tbody>\n",
       "    <tr>\n",
       "      <th>0</th>\n",
       "      <td>-122.23</td>\n",
       "      <td>37.88</td>\n",
       "      <td>41.0</td>\n",
       "      <td>880.0</td>\n",
       "      <td>129.0</td>\n",
       "      <td>322.0</td>\n",
       "      <td>126.0</td>\n",
       "      <td>8.3252</td>\n",
       "      <td>452600.0</td>\n",
       "      <td>NEAR BAY</td>\n",
       "    </tr>\n",
       "    <tr>\n",
       "      <th>1</th>\n",
       "      <td>-122.22</td>\n",
       "      <td>37.86</td>\n",
       "      <td>21.0</td>\n",
       "      <td>7099.0</td>\n",
       "      <td>1106.0</td>\n",
       "      <td>2401.0</td>\n",
       "      <td>1138.0</td>\n",
       "      <td>8.3014</td>\n",
       "      <td>358500.0</td>\n",
       "      <td>NEAR BAY</td>\n",
       "    </tr>\n",
       "    <tr>\n",
       "      <th>2</th>\n",
       "      <td>-122.24</td>\n",
       "      <td>37.85</td>\n",
       "      <td>52.0</td>\n",
       "      <td>1467.0</td>\n",
       "      <td>190.0</td>\n",
       "      <td>496.0</td>\n",
       "      <td>177.0</td>\n",
       "      <td>7.2574</td>\n",
       "      <td>352100.0</td>\n",
       "      <td>NEAR BAY</td>\n",
       "    </tr>\n",
       "    <tr>\n",
       "      <th>3</th>\n",
       "      <td>-122.25</td>\n",
       "      <td>37.85</td>\n",
       "      <td>52.0</td>\n",
       "      <td>1274.0</td>\n",
       "      <td>235.0</td>\n",
       "      <td>558.0</td>\n",
       "      <td>219.0</td>\n",
       "      <td>5.6431</td>\n",
       "      <td>341300.0</td>\n",
       "      <td>NEAR BAY</td>\n",
       "    </tr>\n",
       "    <tr>\n",
       "      <th>4</th>\n",
       "      <td>-122.25</td>\n",
       "      <td>37.85</td>\n",
       "      <td>52.0</td>\n",
       "      <td>1627.0</td>\n",
       "      <td>280.0</td>\n",
       "      <td>565.0</td>\n",
       "      <td>259.0</td>\n",
       "      <td>3.8462</td>\n",
       "      <td>342200.0</td>\n",
       "      <td>NEAR BAY</td>\n",
       "    </tr>\n",
       "  </tbody>\n",
       "</table>\n",
       "</div>"
      ],
      "text/plain": [
       "   longitude  latitude  housing_median_age  total_rooms  total_bedrooms  \\\n",
       "0    -122.23     37.88                41.0        880.0           129.0   \n",
       "1    -122.22     37.86                21.0       7099.0          1106.0   \n",
       "2    -122.24     37.85                52.0       1467.0           190.0   \n",
       "3    -122.25     37.85                52.0       1274.0           235.0   \n",
       "4    -122.25     37.85                52.0       1627.0           280.0   \n",
       "\n",
       "   population  households  median_income  median_house_value ocean_proximity  \n",
       "0       322.0       126.0         8.3252            452600.0        NEAR BAY  \n",
       "1      2401.0      1138.0         8.3014            358500.0        NEAR BAY  \n",
       "2       496.0       177.0         7.2574            352100.0        NEAR BAY  \n",
       "3       558.0       219.0         5.6431            341300.0        NEAR BAY  \n",
       "4       565.0       259.0         3.8462            342200.0        NEAR BAY  "
      ]
     },
     "execution_count": 255,
     "metadata": {},
     "output_type": "execute_result"
    }
   ],
   "source": [
    "raw_data.head()"
   ]
  },
  {
   "cell_type": "code",
   "execution_count": 256,
   "id": "11f4dbee",
   "metadata": {},
   "outputs": [
    {
     "name": "stdout",
     "output_type": "stream",
     "text": [
      "<class 'pandas.core.frame.DataFrame'>\n",
      "RangeIndex: 20640 entries, 0 to 20639\n",
      "Data columns (total 10 columns):\n",
      " #   Column              Non-Null Count  Dtype  \n",
      "---  ------              --------------  -----  \n",
      " 0   longitude           20640 non-null  float64\n",
      " 1   latitude            20640 non-null  float64\n",
      " 2   housing_median_age  20640 non-null  float64\n",
      " 3   total_rooms         20640 non-null  float64\n",
      " 4   total_bedrooms      20433 non-null  float64\n",
      " 5   population          20640 non-null  float64\n",
      " 6   households          20640 non-null  float64\n",
      " 7   median_income       20640 non-null  float64\n",
      " 8   median_house_value  20640 non-null  float64\n",
      " 9   ocean_proximity     20640 non-null  object \n",
      "dtypes: float64(9), object(1)\n",
      "memory usage: 1.6+ MB\n"
     ]
    }
   ],
   "source": [
    "raw_data.info()"
   ]
  },
  {
   "cell_type": "code",
   "execution_count": 257,
   "id": "e71f5d41",
   "metadata": {
    "scrolled": true
   },
   "outputs": [
    {
     "data": {
      "text/html": [
       "<div>\n",
       "<style scoped>\n",
       "    .dataframe tbody tr th:only-of-type {\n",
       "        vertical-align: middle;\n",
       "    }\n",
       "\n",
       "    .dataframe tbody tr th {\n",
       "        vertical-align: top;\n",
       "    }\n",
       "\n",
       "    .dataframe thead th {\n",
       "        text-align: right;\n",
       "    }\n",
       "</style>\n",
       "<table border=\"1\" class=\"dataframe\">\n",
       "  <thead>\n",
       "    <tr style=\"text-align: right;\">\n",
       "      <th></th>\n",
       "      <th>longitude</th>\n",
       "      <th>latitude</th>\n",
       "      <th>housing_median_age</th>\n",
       "      <th>total_rooms</th>\n",
       "      <th>total_bedrooms</th>\n",
       "      <th>population</th>\n",
       "      <th>households</th>\n",
       "      <th>median_income</th>\n",
       "      <th>median_house_value</th>\n",
       "      <th>ocean_proximity</th>\n",
       "    </tr>\n",
       "  </thead>\n",
       "  <tbody>\n",
       "    <tr>\n",
       "      <th>count</th>\n",
       "      <td>20640.000000</td>\n",
       "      <td>20640.000000</td>\n",
       "      <td>20640.000000</td>\n",
       "      <td>20640.000000</td>\n",
       "      <td>20433.000000</td>\n",
       "      <td>20640.000000</td>\n",
       "      <td>20640.000000</td>\n",
       "      <td>20640.000000</td>\n",
       "      <td>20640.000000</td>\n",
       "      <td>20640</td>\n",
       "    </tr>\n",
       "    <tr>\n",
       "      <th>unique</th>\n",
       "      <td>NaN</td>\n",
       "      <td>NaN</td>\n",
       "      <td>NaN</td>\n",
       "      <td>NaN</td>\n",
       "      <td>NaN</td>\n",
       "      <td>NaN</td>\n",
       "      <td>NaN</td>\n",
       "      <td>NaN</td>\n",
       "      <td>NaN</td>\n",
       "      <td>5</td>\n",
       "    </tr>\n",
       "    <tr>\n",
       "      <th>top</th>\n",
       "      <td>NaN</td>\n",
       "      <td>NaN</td>\n",
       "      <td>NaN</td>\n",
       "      <td>NaN</td>\n",
       "      <td>NaN</td>\n",
       "      <td>NaN</td>\n",
       "      <td>NaN</td>\n",
       "      <td>NaN</td>\n",
       "      <td>NaN</td>\n",
       "      <td>&lt;1H OCEAN</td>\n",
       "    </tr>\n",
       "    <tr>\n",
       "      <th>freq</th>\n",
       "      <td>NaN</td>\n",
       "      <td>NaN</td>\n",
       "      <td>NaN</td>\n",
       "      <td>NaN</td>\n",
       "      <td>NaN</td>\n",
       "      <td>NaN</td>\n",
       "      <td>NaN</td>\n",
       "      <td>NaN</td>\n",
       "      <td>NaN</td>\n",
       "      <td>9136</td>\n",
       "    </tr>\n",
       "    <tr>\n",
       "      <th>mean</th>\n",
       "      <td>-119.569704</td>\n",
       "      <td>35.631861</td>\n",
       "      <td>28.639486</td>\n",
       "      <td>2635.763081</td>\n",
       "      <td>537.870553</td>\n",
       "      <td>1425.476744</td>\n",
       "      <td>499.539680</td>\n",
       "      <td>3.870671</td>\n",
       "      <td>206855.816909</td>\n",
       "      <td>NaN</td>\n",
       "    </tr>\n",
       "    <tr>\n",
       "      <th>std</th>\n",
       "      <td>2.003532</td>\n",
       "      <td>2.135952</td>\n",
       "      <td>12.585558</td>\n",
       "      <td>2181.615252</td>\n",
       "      <td>421.385070</td>\n",
       "      <td>1132.462122</td>\n",
       "      <td>382.329753</td>\n",
       "      <td>1.899822</td>\n",
       "      <td>115395.615874</td>\n",
       "      <td>NaN</td>\n",
       "    </tr>\n",
       "    <tr>\n",
       "      <th>min</th>\n",
       "      <td>-124.350000</td>\n",
       "      <td>32.540000</td>\n",
       "      <td>1.000000</td>\n",
       "      <td>2.000000</td>\n",
       "      <td>1.000000</td>\n",
       "      <td>3.000000</td>\n",
       "      <td>1.000000</td>\n",
       "      <td>0.499900</td>\n",
       "      <td>14999.000000</td>\n",
       "      <td>NaN</td>\n",
       "    </tr>\n",
       "    <tr>\n",
       "      <th>25%</th>\n",
       "      <td>-121.800000</td>\n",
       "      <td>33.930000</td>\n",
       "      <td>18.000000</td>\n",
       "      <td>1447.750000</td>\n",
       "      <td>296.000000</td>\n",
       "      <td>787.000000</td>\n",
       "      <td>280.000000</td>\n",
       "      <td>2.563400</td>\n",
       "      <td>119600.000000</td>\n",
       "      <td>NaN</td>\n",
       "    </tr>\n",
       "    <tr>\n",
       "      <th>50%</th>\n",
       "      <td>-118.490000</td>\n",
       "      <td>34.260000</td>\n",
       "      <td>29.000000</td>\n",
       "      <td>2127.000000</td>\n",
       "      <td>435.000000</td>\n",
       "      <td>1166.000000</td>\n",
       "      <td>409.000000</td>\n",
       "      <td>3.534800</td>\n",
       "      <td>179700.000000</td>\n",
       "      <td>NaN</td>\n",
       "    </tr>\n",
       "    <tr>\n",
       "      <th>75%</th>\n",
       "      <td>-118.010000</td>\n",
       "      <td>37.710000</td>\n",
       "      <td>37.000000</td>\n",
       "      <td>3148.000000</td>\n",
       "      <td>647.000000</td>\n",
       "      <td>1725.000000</td>\n",
       "      <td>605.000000</td>\n",
       "      <td>4.743250</td>\n",
       "      <td>264725.000000</td>\n",
       "      <td>NaN</td>\n",
       "    </tr>\n",
       "    <tr>\n",
       "      <th>max</th>\n",
       "      <td>-114.310000</td>\n",
       "      <td>41.950000</td>\n",
       "      <td>52.000000</td>\n",
       "      <td>39320.000000</td>\n",
       "      <td>6445.000000</td>\n",
       "      <td>35682.000000</td>\n",
       "      <td>6082.000000</td>\n",
       "      <td>15.000100</td>\n",
       "      <td>500001.000000</td>\n",
       "      <td>NaN</td>\n",
       "    </tr>\n",
       "  </tbody>\n",
       "</table>\n",
       "</div>"
      ],
      "text/plain": [
       "           longitude      latitude  housing_median_age   total_rooms  \\\n",
       "count   20640.000000  20640.000000        20640.000000  20640.000000   \n",
       "unique           NaN           NaN                 NaN           NaN   \n",
       "top              NaN           NaN                 NaN           NaN   \n",
       "freq             NaN           NaN                 NaN           NaN   \n",
       "mean     -119.569704     35.631861           28.639486   2635.763081   \n",
       "std         2.003532      2.135952           12.585558   2181.615252   \n",
       "min      -124.350000     32.540000            1.000000      2.000000   \n",
       "25%      -121.800000     33.930000           18.000000   1447.750000   \n",
       "50%      -118.490000     34.260000           29.000000   2127.000000   \n",
       "75%      -118.010000     37.710000           37.000000   3148.000000   \n",
       "max      -114.310000     41.950000           52.000000  39320.000000   \n",
       "\n",
       "        total_bedrooms    population    households  median_income  \\\n",
       "count     20433.000000  20640.000000  20640.000000   20640.000000   \n",
       "unique             NaN           NaN           NaN            NaN   \n",
       "top                NaN           NaN           NaN            NaN   \n",
       "freq               NaN           NaN           NaN            NaN   \n",
       "mean        537.870553   1425.476744    499.539680       3.870671   \n",
       "std         421.385070   1132.462122    382.329753       1.899822   \n",
       "min           1.000000      3.000000      1.000000       0.499900   \n",
       "25%         296.000000    787.000000    280.000000       2.563400   \n",
       "50%         435.000000   1166.000000    409.000000       3.534800   \n",
       "75%         647.000000   1725.000000    605.000000       4.743250   \n",
       "max        6445.000000  35682.000000   6082.000000      15.000100   \n",
       "\n",
       "        median_house_value ocean_proximity  \n",
       "count         20640.000000           20640  \n",
       "unique                 NaN               5  \n",
       "top                    NaN       <1H OCEAN  \n",
       "freq                   NaN            9136  \n",
       "mean         206855.816909             NaN  \n",
       "std          115395.615874             NaN  \n",
       "min           14999.000000             NaN  \n",
       "25%          119600.000000             NaN  \n",
       "50%          179700.000000             NaN  \n",
       "75%          264725.000000             NaN  \n",
       "max          500001.000000             NaN  "
      ]
     },
     "execution_count": 257,
     "metadata": {},
     "output_type": "execute_result"
    }
   ],
   "source": [
    "raw_data.describe(include='all')"
   ]
  },
  {
   "cell_type": "code",
   "execution_count": 258,
   "id": "6bff3056",
   "metadata": {},
   "outputs": [
    {
     "data": {
      "text/plain": [
       "<1H OCEAN     9136\n",
       "INLAND        6551\n",
       "NEAR OCEAN    2658\n",
       "NEAR BAY      2290\n",
       "ISLAND           5\n",
       "Name: ocean_proximity, dtype: int64"
      ]
     },
     "execution_count": 258,
     "metadata": {},
     "output_type": "execute_result"
    }
   ],
   "source": [
    "raw_data['ocean_proximity'].value_counts()"
   ]
  },
  {
   "cell_type": "code",
   "execution_count": 259,
   "id": "8f639276",
   "metadata": {},
   "outputs": [],
   "source": [
    "raw_data=raw_data[raw_data['ocean_proximity']!= 'ISLAND']"
   ]
  },
  {
   "cell_type": "code",
   "execution_count": 260,
   "id": "35cc2a27",
   "metadata": {
    "scrolled": false
   },
   "outputs": [
    {
     "data": {
      "image/png": "[encoded data removed]",
      "text/plain": [
       "<Figure size 1440x1080 with 9 Axes>"
      ]
     },
     "metadata": {},
     "output_type": "display_data"
    }
   ],
   "source": [
    "raw_data.hist(bins=50, figsize=(20,15))\n",
    "plt.show()"
   ]
  },
  {
   "cell_type": "code",
   "execution_count": 261,
   "id": "5d94268c",
   "metadata": {},
   "outputs": [],
   "source": [
    "q1= raw_data['total_rooms'].quantile(0.99)\n",
    "q2= raw_data['total_bedrooms'].quantile(0.99)\n",
    "q3= raw_data['population'].quantile(0.99)\n",
    "q4= raw_data['households'].quantile(0.99)"
   ]
  },
  {
   "cell_type": "code",
   "execution_count": 262,
   "id": "5bfb09bd",
   "metadata": {},
   "outputs": [],
   "source": [
    "raw_data= raw_data[raw_data['total_rooms']<q1]\n",
    "raw_data= raw_data[raw_data['total_bedrooms']<q2]\n",
    "raw_data= raw_data[raw_data['population']<q3]\n",
    "raw_data= raw_data[raw_data['households']<q4]"
   ]
  },
  {
   "cell_type": "code",
   "execution_count": 263,
   "id": "ab8f7f5f",
   "metadata": {
    "scrolled": false
   },
   "outputs": [
    {
     "data": {
      "text/plain": [
       "longitude             0\n",
       "latitude              0\n",
       "housing_median_age    0\n",
       "total_rooms           0\n",
       "total_bedrooms        0\n",
       "population            0\n",
       "households            0\n",
       "median_income         0\n",
       "median_house_value    0\n",
       "ocean_proximity       0\n",
       "dtype: int64"
      ]
     },
     "execution_count": 263,
     "metadata": {},
     "output_type": "execute_result"
    }
   ],
   "source": [
    "raw_data.isna().sum()"
   ]
  },
  {
   "cell_type": "code",
   "execution_count": 264,
   "id": "0bffe572",
   "metadata": {},
   "outputs": [
    {
     "data": {
      "text/plain": [
       "latitude             -0.144842\n",
       "longitude            -0.045337\n",
       "population           -0.041086\n",
       "total_bedrooms        0.054569\n",
       "households            0.073164\n",
       "housing_median_age    0.109994\n",
       "total_rooms           0.165200\n",
       "median_income         0.688769\n",
       "median_house_value    1.000000\n",
       "Name: median_house_value, dtype: float64"
      ]
     },
     "execution_count": 264,
     "metadata": {},
     "output_type": "execute_result"
    }
   ],
   "source": [
    "raw_data.corr()['median_house_value'].sort_values()"
   ]
  },
  {
   "cell_type": "code",
   "execution_count": 265,
   "id": "a25a5297",
   "metadata": {},
   "outputs": [],
   "source": [
    "from sklearn.utils import shuffle\n",
    "shuffled_data = shuffle(raw_data, random_state=42)"
   ]
  },
  {
   "cell_type": "code",
   "execution_count": 266,
   "id": "415af4aa",
   "metadata": {},
   "outputs": [],
   "source": [
    "from sklearn.model_selection import train_test_split\n",
    "train_and_validation_set, test_set = train_test_split(shuffled_data, test_size=0.2, random_state=42)"
   ]
  },
  {
   "cell_type": "code",
   "execution_count": 267,
   "id": "212b4da0",
   "metadata": {},
   "outputs": [],
   "source": [
    "from sklearn.model_selection import train_test_split\n",
    "train_set, validation_set = train_test_split(train_and_validation_set, test_size=0.1, random_state=42)"
   ]
  },
  {
   "cell_type": "code",
   "execution_count": 268,
   "id": "089bf00a",
   "metadata": {},
   "outputs": [],
   "source": [
    "x_train= train_set.drop('median_house_value', axis= 1)\n",
    "y_train= train_set['median_house_value']\n",
    "\n",
    "x_val= validation_set.drop('median_house_value', axis= 1)\n",
    "y_val= validation_set['median_house_value']\n",
    "\n",
    "x_test= test_set.drop('median_house_value', axis= 1)\n",
    "y_test= test_set['median_house_value']"
   ]
  },
  {
   "cell_type": "code",
   "execution_count": 269,
   "id": "f1aa15a8",
   "metadata": {},
   "outputs": [],
   "source": [
    "num_columns = x_train.loc[:, x_train.dtypes != object].columns.tolist()\n",
    "cat_columns = x_train.loc[:, x_train.dtypes == object].columns.tolist()"
   ]
  },
  {
   "cell_type": "code",
   "execution_count": 270,
   "id": "37f75e01",
   "metadata": {},
   "outputs": [],
   "source": [
    "from sklearn.pipeline import Pipeline\n",
    "from sklearn.preprocessing import StandardScaler\n",
    "from sklearn.preprocessing import OneHotEncoder\n",
    "\n",
    "num_pipeline = Pipeline([\n",
    " ('std_scaler', StandardScaler())\n",
    " ])\n",
    "\n",
    "cat_pipeline = Pipeline([\n",
    "    ('cat_1hot', OneHotEncoder())\n",
    "])"
   ]
  },
  {
   "cell_type": "code",
   "execution_count": 271,
   "id": "4cd1a9e9",
   "metadata": {},
   "outputs": [],
   "source": [
    "from sklearn.compose import ColumnTransformer\n",
    "\n",
    "column_transformer = ColumnTransformer([\n",
    "                                        ('num_pipeline', num_pipeline, num_columns),\n",
    "                                        ('cat_pipeline', cat_pipeline, cat_columns)\n",
    "                                        ])\n",
    "\n",
    "x_train_prepared = column_transformer.fit_transform(x_train)"
   ]
  },
  {
   "cell_type": "code",
   "execution_count": 272,
   "id": "8cf24a5e",
   "metadata": {},
   "outputs": [],
   "source": [
    "num_columns = x_val.loc[:, x_val.dtypes != object].columns.tolist()\n",
    "cat_columns = x_val.loc[:, x_val.dtypes == object].columns.tolist()\n",
    "x_val_prepared = column_transformer.fit_transform(x_val)"
   ]
  },
  {
   "cell_type": "code",
   "execution_count": 273,
   "id": "52175d61",
   "metadata": {
    "scrolled": true
   },
   "outputs": [
    {
     "name": "stderr",
     "output_type": "stream",
     "text": [
      "[Parallel(n_jobs=1)]: Using backend SequentialBackend with 1 concurrent workers.\n",
      "[Parallel(n_jobs=1)]: Done   1 out of   1 | elapsed:    0.1s remaining:    0.0s\n"
     ]
    },
    {
     "name": "stdout",
     "output_type": "stream",
     "text": [
      "building tree 1 of 50\n",
      "building tree 2 of 50\n",
      "building tree 3 of 50\n",
      "building tree 4 of 50\n",
      "building tree 5 of 50\n",
      "building tree 6 of 50\n",
      "building tree 7 of 50\n",
      "building tree 8 of 50\n",
      "building tree 9 of 50\n",
      "building tree 10 of 50\n",
      "building tree 11 of 50\n",
      "building tree 12 of 50\n",
      "building tree 13 of 50\n",
      "building tree 14 of 50\n",
      "building tree 15 of 50\n",
      "building tree 16 of 50\n",
      "building tree 17 of 50\n",
      "building tree 18 of 50\n",
      "building tree 19 of 50\n",
      "building tree 20 of 50\n",
      "building tree 21 of 50\n",
      "building tree 22 of 50\n",
      "building tree 23 of 50\n",
      "building tree 24 of 50\n",
      "building tree 25 of 50\n",
      "building tree 26 of 50\n",
      "building tree 27 of 50\n",
      "building tree 28 of 50\n",
      "building tree 29 of 50\n",
      "building tree 30 of 50\n",
      "building tree 31 of 50\n",
      "building tree 32 of 50\n",
      "building tree 33 of 50\n",
      "building tree 34 of 50\n",
      "building tree 35 of 50\n",
      "building tree 36 of 50\n",
      "building tree 37 of 50\n",
      "building tree 38 of 50\n",
      "building tree 39 of 50\n",
      "building tree 40 of 50\n",
      "building tree 41 of 50\n",
      "building tree 42 of 50\n",
      "building tree 43 of 50\n",
      "building tree 44 of 50\n",
      "building tree 45 of 50\n",
      "building tree 46 of 50\n",
      "building tree 47 of 50\n",
      "building tree 48 of 50\n",
      "building tree 49 of 50\n",
      "building tree 50 of 50\n"
     ]
    },
    {
     "name": "stderr",
     "output_type": "stream",
     "text": [
      "[Parallel(n_jobs=1)]: Done  50 out of  50 | elapsed:    8.9s finished\n"
     ]
    },
    {
     "data": {
      "text/plain": [
       "RandomForestRegressor(n_estimators=50, verbose=2)"
      ]
     },
     "execution_count": 273,
     "metadata": {},
     "output_type": "execute_result"
    }
   ],
   "source": [
    "from sklearn.ensemble import RandomForestRegressor\n",
    "forest_reg = RandomForestRegressor(n_estimators=50, verbose=2)\n",
    "forest_reg.fit(x_train_prepared, y_train)"
   ]
  },
  {
   "cell_type": "code",
   "execution_count": 274,
   "id": "ac176a84",
   "metadata": {},
   "outputs": [
    {
     "name": "stderr",
     "output_type": "stream",
     "text": [
      "[Parallel(n_jobs=1)]: Using backend SequentialBackend with 1 concurrent workers.\n",
      "[Parallel(n_jobs=1)]: Done   1 out of   1 | elapsed:    0.0s remaining:    0.0s\n",
      "[Parallel(n_jobs=1)]: Done  50 out of  50 | elapsed:    0.2s finished\n"
     ]
    },
    {
     "data": {
      "text/plain": [
       "0.9730981338605496"
      ]
     },
     "execution_count": 274,
     "metadata": {},
     "output_type": "execute_result"
    }
   ],
   "source": [
    "forest_reg.score(x_train_prepared, y_train)"
   ]
  },
  {
   "cell_type": "code",
   "execution_count": 275,
   "id": "2fba25db",
   "metadata": {},
   "outputs": [
    {
     "name": "stderr",
     "output_type": "stream",
     "text": [
      "[Parallel(n_jobs=1)]: Using backend SequentialBackend with 1 concurrent workers.\n",
      "[Parallel(n_jobs=1)]: Done   1 out of   1 | elapsed:    0.0s remaining:    0.0s\n",
      "[Parallel(n_jobs=1)]: Done  50 out of  50 | elapsed:    0.0s finished\n"
     ]
    },
    {
     "data": {
      "text/plain": [
       "0.7281342773278188"
      ]
     },
     "execution_count": 275,
     "metadata": {},
     "output_type": "execute_result"
    }
   ],
   "source": [
    "forest_reg.score(x_val_prepared, y_val)"
   ]
  },
  {
   "cell_type": "code",
   "execution_count": 276,
   "id": "fa34c49b",
   "metadata": {},
   "outputs": [
    {
     "name": "stderr",
     "output_type": "stream",
     "text": [
      "[Parallel(n_jobs=1)]: Using backend SequentialBackend with 1 concurrent workers.\n",
      "[Parallel(n_jobs=1)]: Done   1 out of   1 | elapsed:    0.0s remaining:    0.0s\n",
      "[Parallel(n_jobs=1)]: Done  50 out of  50 | elapsed:    0.2s finished\n",
      "[Parallel(n_jobs=1)]: Using backend SequentialBackend with 1 concurrent workers.\n",
      "[Parallel(n_jobs=1)]: Done   1 out of   1 | elapsed:    0.0s remaining:    0.0s\n",
      "[Parallel(n_jobs=1)]: Done  50 out of  50 | elapsed:    0.0s finished\n"
     ]
    }
   ],
   "source": [
    "train_predictions= forest_reg.predict(x_train_prepared)\n",
    "val_predictions= forest_reg.predict(x_val_prepared)"
   ]
  },
  {
   "cell_type": "code",
   "execution_count": 277,
   "id": "c9d5bfe9",
   "metadata": {
    "scrolled": true
   },
   "outputs": [
    {
     "name": "stdout",
     "output_type": "stream",
     "text": [
      "Fitting 5 folds for each of 36 candidates, totalling 180 fits\n",
      "[CV] END .max_features=2, min_samples_leaf=2, n_estimators=3; total time=   0.0s\n",
      "[CV] END .max_features=2, min_samples_leaf=2, n_estimators=3; total time=   0.0s\n",
      "[CV] END .max_features=2, min_samples_leaf=2, n_estimators=3; total time=   0.0s\n",
      "[CV] END .max_features=2, min_samples_leaf=2, n_estimators=3; total time=   0.0s\n",
      "[CV] END .max_features=2, min_samples_leaf=2, n_estimators=3; total time=   0.0s\n",
      "[CV] END max_features=2, min_samples_leaf=2, n_estimators=10; total time=   0.2s\n",
      "[CV] END max_features=2, min_samples_leaf=2, n_estimators=10; total time=   0.2s\n",
      "[CV] END max_features=2, min_samples_leaf=2, n_estimators=10; total time=   0.2s\n",
      "[CV] END max_features=2, min_samples_leaf=2, n_estimators=10; total time=   0.2s\n",
      "[CV] END max_features=2, min_samples_leaf=2, n_estimators=10; total time=   0.2s\n",
      "[CV] END max_features=2, min_samples_leaf=2, n_estimators=30; total time=   0.8s\n",
      "[CV] END max_features=2, min_samples_leaf=2, n_estimators=30; total time=   0.8s\n",
      "[CV] END max_features=2, min_samples_leaf=2, n_estimators=30; total time=   0.8s\n",
      "[CV] END max_features=2, min_samples_leaf=2, n_estimators=30; total time=   0.8s\n",
      "[CV] END max_features=2, min_samples_leaf=2, n_estimators=30; total time=   0.8s\n",
      "[CV] END .max_features=2, min_samples_leaf=3, n_estimators=3; total time=   0.0s\n",
      "[CV] END .max_features=2, min_samples_leaf=3, n_estimators=3; total time=   0.0s\n",
      "[CV] END .max_features=2, min_samples_leaf=3, n_estimators=3; total time=   0.0s\n",
      "[CV] END .max_features=2, min_samples_leaf=3, n_estimators=3; total time=   0.0s\n",
      "[CV] END .max_features=2, min_samples_leaf=3, n_estimators=3; total time=   0.0s\n",
      "[CV] END max_features=2, min_samples_leaf=3, n_estimators=10; total time=   0.2s\n",
      "[CV] END max_features=2, min_samples_leaf=3, n_estimators=10; total time=   0.2s\n",
      "[CV] END max_features=2, min_samples_leaf=3, n_estimators=10; total time=   0.2s\n",
      "[CV] END max_features=2, min_samples_leaf=3, n_estimators=10; total time=   0.2s\n",
      "[CV] END max_features=2, min_samples_leaf=3, n_estimators=10; total time=   0.2s\n",
      "[CV] END max_features=2, min_samples_leaf=3, n_estimators=30; total time=   0.7s\n",
      "[CV] END max_features=2, min_samples_leaf=3, n_estimators=30; total time=   0.7s\n",
      "[CV] END max_features=2, min_samples_leaf=3, n_estimators=30; total time=   0.7s\n",
      "[CV] END max_features=2, min_samples_leaf=3, n_estimators=30; total time=   0.8s\n",
      "[CV] END max_features=2, min_samples_leaf=3, n_estimators=30; total time=   0.7s\n",
      "[CV] END .max_features=2, min_samples_leaf=4, n_estimators=3; total time=   0.0s\n",
      "[CV] END .max_features=2, min_samples_leaf=4, n_estimators=3; total time=   0.0s\n",
      "[CV] END .max_features=2, min_samples_leaf=4, n_estimators=3; total time=   0.0s\n",
      "[CV] END .max_features=2, min_samples_leaf=4, n_estimators=3; total time=   0.0s\n",
      "[CV] END .max_features=2, min_samples_leaf=4, n_estimators=3; total time=   0.0s\n",
      "[CV] END max_features=2, min_samples_leaf=4, n_estimators=10; total time=   0.2s\n",
      "[CV] END max_features=2, min_samples_leaf=4, n_estimators=10; total time=   0.2s\n",
      "[CV] END max_features=2, min_samples_leaf=4, n_estimators=10; total time=   0.2s\n",
      "[CV] END max_features=2, min_samples_leaf=4, n_estimators=10; total time=   0.2s\n",
      "[CV] END max_features=2, min_samples_leaf=4, n_estimators=10; total time=   0.2s\n",
      "[CV] END max_features=2, min_samples_leaf=4, n_estimators=30; total time=   0.7s\n",
      "[CV] END max_features=2, min_samples_leaf=4, n_estimators=30; total time=   0.7s\n",
      "[CV] END max_features=2, min_samples_leaf=4, n_estimators=30; total time=   0.7s\n",
      "[CV] END max_features=2, min_samples_leaf=4, n_estimators=30; total time=   0.7s\n",
      "[CV] END max_features=2, min_samples_leaf=4, n_estimators=30; total time=   0.7s\n",
      "[CV] END .max_features=4, min_samples_leaf=2, n_estimators=3; total time=   0.0s\n",
      "[CV] END .max_features=4, min_samples_leaf=2, n_estimators=3; total time=   0.1s\n",
      "[CV] END .max_features=4, min_samples_leaf=2, n_estimators=3; total time=   0.1s\n",
      "[CV] END .max_features=4, min_samples_leaf=2, n_estimators=3; total time=   0.0s\n",
      "[CV] END .max_features=4, min_samples_leaf=2, n_estimators=3; total time=   0.1s\n",
      "[CV] END max_features=4, min_samples_leaf=2, n_estimators=10; total time=   0.4s\n",
      "[CV] END max_features=4, min_samples_leaf=2, n_estimators=10; total time=   0.4s\n",
      "[CV] END max_features=4, min_samples_leaf=2, n_estimators=10; total time=   0.4s\n",
      "[CV] END max_features=4, min_samples_leaf=2, n_estimators=10; total time=   0.4s\n",
      "[CV] END max_features=4, min_samples_leaf=2, n_estimators=10; total time=   0.4s\n",
      "[CV] END max_features=4, min_samples_leaf=2, n_estimators=30; total time=   1.4s\n",
      "[CV] END max_features=4, min_samples_leaf=2, n_estimators=30; total time=   1.4s\n",
      "[CV] END max_features=4, min_samples_leaf=2, n_estimators=30; total time=   1.4s\n",
      "[CV] END max_features=4, min_samples_leaf=2, n_estimators=30; total time=   1.4s\n",
      "[CV] END max_features=4, min_samples_leaf=2, n_estimators=30; total time=   1.4s\n",
      "[CV] END .max_features=4, min_samples_leaf=3, n_estimators=3; total time=   0.0s\n",
      "[CV] END .max_features=4, min_samples_leaf=3, n_estimators=3; total time=   0.0s\n",
      "[CV] END .max_features=4, min_samples_leaf=3, n_estimators=3; total time=   0.0s\n",
      "[CV] END .max_features=4, min_samples_leaf=3, n_estimators=3; total time=   0.1s\n",
      "[CV] END .max_features=4, min_samples_leaf=3, n_estimators=3; total time=   0.0s\n",
      "[CV] END max_features=4, min_samples_leaf=3, n_estimators=10; total time=   0.4s\n",
      "[CV] END max_features=4, min_samples_leaf=3, n_estimators=10; total time=   0.3s\n",
      "[CV] END max_features=4, min_samples_leaf=3, n_estimators=10; total time=   0.4s\n",
      "[CV] END max_features=4, min_samples_leaf=3, n_estimators=10; total time=   0.4s\n",
      "[CV] END max_features=4, min_samples_leaf=3, n_estimators=10; total time=   0.4s\n",
      "[CV] END max_features=4, min_samples_leaf=3, n_estimators=30; total time=   0.7s\n",
      "[CV] END max_features=4, min_samples_leaf=3, n_estimators=30; total time=   1.3s\n",
      "[CV] END max_features=4, min_samples_leaf=3, n_estimators=30; total time=   1.2s\n",
      "[CV] END max_features=4, min_samples_leaf=3, n_estimators=30; total time=   1.3s\n",
      "[CV] END max_features=4, min_samples_leaf=3, n_estimators=30; total time=   1.3s\n",
      "[CV] END .max_features=4, min_samples_leaf=4, n_estimators=3; total time=   0.0s\n",
      "[CV] END .max_features=4, min_samples_leaf=4, n_estimators=3; total time=   0.0s\n",
      "[CV] END .max_features=4, min_samples_leaf=4, n_estimators=3; total time=   0.0s\n",
      "[CV] END .max_features=4, min_samples_leaf=4, n_estimators=3; total time=   0.0s\n",
      "[CV] END .max_features=4, min_samples_leaf=4, n_estimators=3; total time=   0.0s\n",
      "[CV] END max_features=4, min_samples_leaf=4, n_estimators=10; total time=   0.3s\n",
      "[CV] END max_features=4, min_samples_leaf=4, n_estimators=10; total time=   0.4s\n",
      "[CV] END max_features=4, min_samples_leaf=4, n_estimators=10; total time=   0.3s\n",
      "[CV] END max_features=4, min_samples_leaf=4, n_estimators=10; total time=   0.3s\n",
      "[CV] END max_features=4, min_samples_leaf=4, n_estimators=10; total time=   0.3s\n",
      "[CV] END max_features=4, min_samples_leaf=4, n_estimators=30; total time=   1.2s\n",
      "[CV] END max_features=4, min_samples_leaf=4, n_estimators=30; total time=   1.1s\n",
      "[CV] END max_features=4, min_samples_leaf=4, n_estimators=30; total time=   1.1s\n",
      "[CV] END max_features=4, min_samples_leaf=4, n_estimators=30; total time=   1.2s\n",
      "[CV] END max_features=4, min_samples_leaf=4, n_estimators=30; total time=   1.2s\n",
      "[CV] END .max_features=6, min_samples_leaf=2, n_estimators=3; total time=   0.1s\n",
      "[CV] END .max_features=6, min_samples_leaf=2, n_estimators=3; total time=   0.1s\n",
      "[CV] END .max_features=6, min_samples_leaf=2, n_estimators=3; total time=   0.1s\n",
      "[CV] END .max_features=6, min_samples_leaf=2, n_estimators=3; total time=   0.1s\n",
      "[CV] END .max_features=6, min_samples_leaf=2, n_estimators=3; total time=   0.1s\n",
      "[CV] END max_features=6, min_samples_leaf=2, n_estimators=10; total time=   0.6s\n",
      "[CV] END max_features=6, min_samples_leaf=2, n_estimators=10; total time=   0.5s\n",
      "[CV] END max_features=6, min_samples_leaf=2, n_estimators=10; total time=   0.6s\n",
      "[CV] END max_features=6, min_samples_leaf=2, n_estimators=10; total time=   0.5s\n",
      "[CV] END max_features=6, min_samples_leaf=2, n_estimators=10; total time=   0.5s\n",
      "[CV] END max_features=6, min_samples_leaf=2, n_estimators=30; total time=   2.0s\n"
     ]
    },
    {
     "name": "stdout",
     "output_type": "stream",
     "text": [
      "[CV] END max_features=6, min_samples_leaf=2, n_estimators=30; total time=   2.0s\n",
      "[CV] END max_features=6, min_samples_leaf=2, n_estimators=30; total time=   1.9s\n",
      "[CV] END max_features=6, min_samples_leaf=2, n_estimators=30; total time=   2.0s\n",
      "[CV] END max_features=6, min_samples_leaf=2, n_estimators=30; total time=   1.9s\n",
      "[CV] END .max_features=6, min_samples_leaf=3, n_estimators=3; total time=   0.1s\n",
      "[CV] END .max_features=6, min_samples_leaf=3, n_estimators=3; total time=   0.1s\n",
      "[CV] END .max_features=6, min_samples_leaf=3, n_estimators=3; total time=   0.1s\n",
      "[CV] END .max_features=6, min_samples_leaf=3, n_estimators=3; total time=   0.1s\n",
      "[CV] END .max_features=6, min_samples_leaf=3, n_estimators=3; total time=   0.1s\n",
      "[CV] END max_features=6, min_samples_leaf=3, n_estimators=10; total time=   0.5s\n",
      "[CV] END max_features=6, min_samples_leaf=3, n_estimators=10; total time=   0.5s\n",
      "[CV] END max_features=6, min_samples_leaf=3, n_estimators=10; total time=   0.5s\n",
      "[CV] END max_features=6, min_samples_leaf=3, n_estimators=10; total time=   0.5s\n",
      "[CV] END max_features=6, min_samples_leaf=3, n_estimators=10; total time=   0.5s\n",
      "[CV] END max_features=6, min_samples_leaf=3, n_estimators=30; total time=   1.8s\n",
      "[CV] END max_features=6, min_samples_leaf=3, n_estimators=30; total time=   1.8s\n",
      "[CV] END max_features=6, min_samples_leaf=3, n_estimators=30; total time=   1.8s\n",
      "[CV] END max_features=6, min_samples_leaf=3, n_estimators=30; total time=   1.8s\n",
      "[CV] END max_features=6, min_samples_leaf=3, n_estimators=30; total time=   1.7s\n",
      "[CV] END .max_features=6, min_samples_leaf=4, n_estimators=3; total time=   0.1s\n",
      "[CV] END .max_features=6, min_samples_leaf=4, n_estimators=3; total time=   0.1s\n",
      "[CV] END .max_features=6, min_samples_leaf=4, n_estimators=3; total time=   0.1s\n",
      "[CV] END .max_features=6, min_samples_leaf=4, n_estimators=3; total time=   0.1s\n",
      "[CV] END .max_features=6, min_samples_leaf=4, n_estimators=3; total time=   0.1s\n",
      "[CV] END max_features=6, min_samples_leaf=4, n_estimators=10; total time=   0.5s\n",
      "[CV] END max_features=6, min_samples_leaf=4, n_estimators=10; total time=   0.5s\n",
      "[CV] END max_features=6, min_samples_leaf=4, n_estimators=10; total time=   0.5s\n",
      "[CV] END max_features=6, min_samples_leaf=4, n_estimators=10; total time=   0.5s\n",
      "[CV] END max_features=6, min_samples_leaf=4, n_estimators=10; total time=   0.5s\n",
      "[CV] END max_features=6, min_samples_leaf=4, n_estimators=30; total time=   1.7s\n",
      "[CV] END max_features=6, min_samples_leaf=4, n_estimators=30; total time=   1.7s\n",
      "[CV] END max_features=6, min_samples_leaf=4, n_estimators=30; total time=   1.7s\n",
      "[CV] END max_features=6, min_samples_leaf=4, n_estimators=30; total time=   1.7s\n",
      "[CV] END max_features=6, min_samples_leaf=4, n_estimators=30; total time=   1.7s\n",
      "[CV] END .max_features=8, min_samples_leaf=2, n_estimators=3; total time=   0.2s\n",
      "[CV] END .max_features=8, min_samples_leaf=2, n_estimators=3; total time=   0.2s\n",
      "[CV] END .max_features=8, min_samples_leaf=2, n_estimators=3; total time=   0.2s\n",
      "[CV] END .max_features=8, min_samples_leaf=2, n_estimators=3; total time=   0.2s\n",
      "[CV] END .max_features=8, min_samples_leaf=2, n_estimators=3; total time=   0.2s\n",
      "[CV] END max_features=8, min_samples_leaf=2, n_estimators=10; total time=   0.8s\n",
      "[CV] END max_features=8, min_samples_leaf=2, n_estimators=10; total time=   0.8s\n",
      "[CV] END max_features=8, min_samples_leaf=2, n_estimators=10; total time=   0.8s\n",
      "[CV] END max_features=8, min_samples_leaf=2, n_estimators=10; total time=   0.8s\n",
      "[CV] END max_features=8, min_samples_leaf=2, n_estimators=10; total time=   0.8s\n",
      "[CV] END max_features=8, min_samples_leaf=2, n_estimators=30; total time=   2.6s\n",
      "[CV] END max_features=8, min_samples_leaf=2, n_estimators=30; total time=   2.5s\n",
      "[CV] END max_features=8, min_samples_leaf=2, n_estimators=30; total time=   2.5s\n",
      "[CV] END max_features=8, min_samples_leaf=2, n_estimators=30; total time=   2.5s\n",
      "[CV] END max_features=8, min_samples_leaf=2, n_estimators=30; total time=   2.5s\n",
      "[CV] END .max_features=8, min_samples_leaf=3, n_estimators=3; total time=   0.1s\n",
      "[CV] END .max_features=8, min_samples_leaf=3, n_estimators=3; total time=   0.1s\n",
      "[CV] END .max_features=8, min_samples_leaf=3, n_estimators=3; total time=   0.2s\n",
      "[CV] END .max_features=8, min_samples_leaf=3, n_estimators=3; total time=   0.2s\n",
      "[CV] END .max_features=8, min_samples_leaf=3, n_estimators=3; total time=   0.1s\n",
      "[CV] END max_features=8, min_samples_leaf=3, n_estimators=10; total time=   0.7s\n",
      "[CV] END max_features=8, min_samples_leaf=3, n_estimators=10; total time=   0.7s\n",
      "[CV] END max_features=8, min_samples_leaf=3, n_estimators=10; total time=   0.7s\n",
      "[CV] END max_features=8, min_samples_leaf=3, n_estimators=10; total time=   0.7s\n",
      "[CV] END max_features=8, min_samples_leaf=3, n_estimators=10; total time=   0.7s\n",
      "[CV] END max_features=8, min_samples_leaf=3, n_estimators=30; total time=   2.4s\n",
      "[CV] END max_features=8, min_samples_leaf=3, n_estimators=30; total time=   2.3s\n",
      "[CV] END max_features=8, min_samples_leaf=3, n_estimators=30; total time=   2.3s\n",
      "[CV] END max_features=8, min_samples_leaf=3, n_estimators=30; total time=   2.3s\n",
      "[CV] END max_features=8, min_samples_leaf=3, n_estimators=30; total time=   2.3s\n",
      "[CV] END .max_features=8, min_samples_leaf=4, n_estimators=3; total time=   0.1s\n",
      "[CV] END .max_features=8, min_samples_leaf=4, n_estimators=3; total time=   0.1s\n",
      "[CV] END .max_features=8, min_samples_leaf=4, n_estimators=3; total time=   0.1s\n",
      "[CV] END .max_features=8, min_samples_leaf=4, n_estimators=3; total time=   0.1s\n",
      "[CV] END .max_features=8, min_samples_leaf=4, n_estimators=3; total time=   0.1s\n",
      "[CV] END max_features=8, min_samples_leaf=4, n_estimators=10; total time=   0.6s\n",
      "[CV] END max_features=8, min_samples_leaf=4, n_estimators=10; total time=   0.6s\n",
      "[CV] END max_features=8, min_samples_leaf=4, n_estimators=10; total time=   0.6s\n",
      "[CV] END max_features=8, min_samples_leaf=4, n_estimators=10; total time=   0.7s\n",
      "[CV] END max_features=8, min_samples_leaf=4, n_estimators=10; total time=   0.7s\n",
      "[CV] END max_features=8, min_samples_leaf=4, n_estimators=30; total time=   2.2s\n",
      "[CV] END max_features=8, min_samples_leaf=4, n_estimators=30; total time=   2.2s\n",
      "[CV] END max_features=8, min_samples_leaf=4, n_estimators=30; total time=   2.2s\n",
      "[CV] END max_features=8, min_samples_leaf=4, n_estimators=30; total time=   2.1s\n",
      "[CV] END max_features=8, min_samples_leaf=4, n_estimators=30; total time=   2.1s\n"
     ]
    },
    {
     "data": {
      "text/plain": [
       "GridSearchCV(cv=5, estimator=RandomForestRegressor(),\n",
       "             param_grid=[{'max_features': [2, 4, 6, 8],\n",
       "                          'min_samples_leaf': [2, 3, 4],\n",
       "                          'n_estimators': [3, 10, 30]}],\n",
       "             return_train_score=True, scoring='neg_mean_squared_error',\n",
       "             verbose=2)"
      ]
     },
     "execution_count": 277,
     "metadata": {},
     "output_type": "execute_result"
    }
   ],
   "source": [
    "from sklearn.model_selection import GridSearchCV\n",
    "param_grid = [\n",
    "    {'n_estimators': [3, 10, 30], 'max_features': [2, 4, 6, 8], 'min_samples_leaf': [2, 3, 4]}\n",
    "    ]\n",
    "grid_search = GridSearchCV(RandomForestRegressor(), param_grid, cv=5, scoring='neg_mean_squared_error', return_train_score=True, verbose=2)\n",
    "grid_search.fit(x_train_prepared, y_train)"
   ]
  },
  {
   "cell_type": "code",
   "execution_count": 278,
   "id": "d891911e",
   "metadata": {},
   "outputs": [
    {
     "data": {
      "text/plain": [
       "{'max_features': 8, 'min_samples_leaf': 3, 'n_estimators': 30}"
      ]
     },
     "execution_count": 278,
     "metadata": {},
     "output_type": "execute_result"
    }
   ],
   "source": [
    "grid_search.best_params_"
   ]
  },
  {
   "cell_type": "code",
   "execution_count": 279,
   "id": "a534229e",
   "metadata": {},
   "outputs": [
    {
     "name": "stderr",
     "output_type": "stream",
     "text": [
      "[Parallel(n_jobs=1)]: Using backend SequentialBackend with 1 concurrent workers.\n",
      "[Parallel(n_jobs=1)]: Done   1 out of   1 | elapsed:    0.0s remaining:    0.0s\n"
     ]
    },
    {
     "name": "stdout",
     "output_type": "stream",
     "text": [
      "building tree 1 of 30\n",
      "building tree 2 of 30\n",
      "building tree 3 of 30\n",
      "building tree 4 of 30\n",
      "building tree 5 of 30\n",
      "building tree 6 of 30\n",
      "building tree 7 of 30\n",
      "building tree 8 of 30\n",
      "building tree 9 of 30\n",
      "building tree 10 of 30\n",
      "building tree 11 of 30\n",
      "building tree 12 of 30\n",
      "building tree 13 of 30\n",
      "building tree 14 of 30\n",
      "building tree 15 of 30\n",
      "building tree 16 of 30\n",
      "building tree 17 of 30\n",
      "building tree 18 of 30\n",
      "building tree 19 of 30\n",
      "building tree 20 of 30\n",
      "building tree 21 of 30\n",
      "building tree 22 of 30\n",
      "building tree 23 of 30\n",
      "building tree 24 of 30\n",
      "building tree 25 of 30\n",
      "building tree 26 of 30\n",
      "building tree 27 of 30\n",
      "building tree 28 of 30\n",
      "building tree 29 of 30\n",
      "building tree 30 of 30\n"
     ]
    },
    {
     "name": "stderr",
     "output_type": "stream",
     "text": [
      "[Parallel(n_jobs=1)]: Done  30 out of  30 | elapsed:    2.8s finished\n"
     ]
    },
    {
     "data": {
      "text/plain": [
       "RandomForestRegressor(max_features=8, min_samples_leaf=3, n_estimators=30,\n",
       "                      verbose=2)"
      ]
     },
     "execution_count": 279,
     "metadata": {},
     "output_type": "execute_result"
    }
   ],
   "source": [
    "from sklearn.ensemble import RandomForestRegressor\n",
    "forest_reg2 = RandomForestRegressor(n_estimators= 30, max_features= 8,min_samples_leaf= 3, verbose=2)\n",
    "forest_reg2.fit(x_train_prepared, y_train)"
   ]
  },
  {
   "cell_type": "code",
   "execution_count": 280,
   "id": "d29d55c4",
   "metadata": {},
   "outputs": [],
   "source": [
    "num_columns = x_test.loc[:, x_test.dtypes != object].columns.tolist()\n",
    "cat_columns = x_test.loc[:, x_test.dtypes == object].columns.tolist()\n",
    "x_test_prepared = column_transformer.fit_transform(x_test)"
   ]
  },
  {
   "cell_type": "code",
   "execution_count": 281,
   "id": "d46625a8",
   "metadata": {},
   "outputs": [
    {
     "name": "stderr",
     "output_type": "stream",
     "text": [
      "[Parallel(n_jobs=1)]: Using backend SequentialBackend with 1 concurrent workers.\n",
      "[Parallel(n_jobs=1)]: Done   1 out of   1 | elapsed:    0.0s remaining:    0.0s\n",
      "[Parallel(n_jobs=1)]: Done  30 out of  30 | elapsed:    0.0s finished\n"
     ]
    }
   ],
   "source": [
    "test_prediction= forest_reg2.predict(x_test_prepared)"
   ]
  },
  {
   "cell_type": "code",
   "execution_count": 282,
   "id": "a7e6b4fe",
   "metadata": {},
   "outputs": [
    {
     "name": "stderr",
     "output_type": "stream",
     "text": [
      "[Parallel(n_jobs=1)]: Using backend SequentialBackend with 1 concurrent workers.\n",
      "[Parallel(n_jobs=1)]: Done   1 out of   1 | elapsed:    0.0s remaining:    0.0s\n",
      "[Parallel(n_jobs=1)]: Done  30 out of  30 | elapsed:    0.0s finished\n"
     ]
    },
    {
     "data": {
      "text/plain": [
       "0.7828440758163621"
      ]
     },
     "execution_count": 282,
     "metadata": {},
     "output_type": "execute_result"
    }
   ],
   "source": [
    "forest_reg2.score(x_test_prepared, y_test)"
   ]
  },
  {
   "cell_type": "code",
   "execution_count": null,
   "id": "c604c0ab",
   "metadata": {},
   "outputs": [],
   "source": []
  }
 ],
 "metadata": {
  "kernelspec": {
   "display_name": "Python 3",
   "language": "python",
   "name": "python3"
  },
  "language_info": {
   "codemirror_mode": {
    "name": "ipython",
    "version": 3
   },
   "file_extension": ".py",
   "mimetype": "text/x-python",
   "name": "python",
   "nbconvert_exporter": "python",
   "pygments_lexer": "ipython3",
   "version": "3.8.8"
  }
 },
 "nbformat": 4,
 "nbformat_minor": 5
}
